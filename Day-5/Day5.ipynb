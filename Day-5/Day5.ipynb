{
 "cells": [
  {
   "cell_type": "markdown",
   "metadata": {},
   "source": [
    "# Day-5\n",
    "## Python for Data Science"
   ]
  },
  {
   "cell_type": "code",
   "execution_count": 3,
   "metadata": {},
   "outputs": [
    {
     "name": "stdout",
     "output_type": "stream",
     "text": [
      "Congrats!!! Now you can vote!!!\n"
     ]
    }
   ],
   "source": [
    "age = int(input(\"How old are you??\"))\n",
    "\n",
    "if age < 18:\n",
    "    print('You are not allowed to vote.')\n",
    "else:\n",
    "    print(\"Congrats!!! Now you can vote!!!\")"
   ]
  },
  {
   "cell_type": "code",
   "execution_count": 7,
   "metadata": {},
   "outputs": [
    {
     "name": "stdout",
     "output_type": "stream",
     "text": [
      "Please guess the number between 1 to 10:\n",
      "Too Low!\n",
      "Well done, You have guessed the correct value.\n"
     ]
    }
   ],
   "source": [
    "## Number guessing game between 1 to 10\n",
    "## random\n",
    "ans = 5\n",
    "\n",
    "print(\"Please guess the number between 1 to 10:\")\n",
    "guess = int(input())\n",
    "\n",
    "if guess != ans:\n",
    "    if guess < ans:\n",
    "        print(\"Too Low!\")\n",
    "    else:\n",
    "        print(\"Too High!\")\n",
    "\n",
    "    guess = int(input())\n",
    "    if guess == ans:\n",
    "        print(\"Well done, You have guessed the correct value.\")\n",
    "    else:\n",
    "        print(\"Sorry, you have not guessed correctly!\")\n",
    "else:\n",
    "    print(\"You got it first time!!!\")\n"
   ]
  },
  {
   "cell_type": "markdown",
   "metadata": {},
   "source": [
    "## Functions"
   ]
  },
  {
   "cell_type": "code",
   "execution_count": null,
   "metadata": {},
   "outputs": [],
   "source": [
    "def func_name(arg1,arg2,arg3):\n",
    "    function_body or Func_logic"
   ]
  },
  {
   "cell_type": "code",
   "execution_count": 8,
   "metadata": {},
   "outputs": [],
   "source": [
    "def func1():\n",
    "    print(\"This is my first python function!!!\")"
   ]
  },
  {
   "cell_type": "code",
   "execution_count": 10,
   "metadata": {},
   "outputs": [
    {
     "name": "stdout",
     "output_type": "stream",
     "text": [
      "This is my first python function!!!\n"
     ]
    }
   ],
   "source": [
    "func1()"
   ]
  },
  {
   "cell_type": "code",
   "execution_count": 11,
   "metadata": {},
   "outputs": [],
   "source": [
    "def table():\n",
    "    v1 = int(input(\"Enter any number:\"))\n",
    "    for i in range(1,11):\n",
    "        print(f\"{v1} * {i} = {v1*i}\")"
   ]
  },
  {
   "cell_type": "code",
   "execution_count": 12,
   "metadata": {},
   "outputs": [
    {
     "name": "stdout",
     "output_type": "stream",
     "text": [
      "12 * 1 = 12\n",
      "12 * 2 = 24\n",
      "12 * 3 = 36\n",
      "12 * 4 = 48\n",
      "12 * 5 = 60\n",
      "12 * 6 = 72\n",
      "12 * 7 = 84\n",
      "12 * 8 = 96\n",
      "12 * 9 = 108\n",
      "12 * 10 = 120\n"
     ]
    }
   ],
   "source": [
    "table()"
   ]
  },
  {
   "cell_type": "markdown",
   "metadata": {},
   "source": [
    "## Types of Functions()"
   ]
  },
  {
   "cell_type": "code",
   "execution_count": 14,
   "metadata": {},
   "outputs": [
    {
     "name": "stdout",
     "output_type": "stream",
     "text": [
      "22 + 33 = 55\n"
     ]
    }
   ],
   "source": [
    "### Type-1\n",
    "def func1():\n",
    "    var1 = int(input(\"Enter the value of var1:\"))\n",
    "    var2 = int(input(\"Enter the value of var2:\"))\n",
    "\n",
    "    var3 = var1 + var2\n",
    "    print(f\"{var1} + {var2} = {var3}\")\n",
    "\n",
    "func1()"
   ]
  },
  {
   "cell_type": "code",
   "execution_count": 17,
   "metadata": {},
   "outputs": [
    {
     "name": "stdout",
     "output_type": "stream",
     "text": [
      "3^10 = 59049\n"
     ]
    }
   ],
   "source": [
    "## Type-2\n",
    "def func2(var1,var2):\n",
    "    var3 = pow(var1,var2)\n",
    "    print(f\"{var1}^{var2} = {var3}\")\n",
    "\n",
    "func2(3,10)"
   ]
  },
  {
   "cell_type": "code",
   "execution_count": 19,
   "metadata": {},
   "outputs": [
    {
     "name": "stdout",
     "output_type": "stream",
     "text": [
      "Multiply: 84\n"
     ]
    }
   ],
   "source": [
    "## Type-3\n",
    "def func3():\n",
    "    var1 = int(input(\"Enter the value of var1:\"))\n",
    "    var2 = int(input(\"Enter the value of var2:\"))\n",
    "\n",
    "    var3 = var1 * var2\n",
    "    return var3\n",
    "\n",
    "ans = func3()\n",
    "print(\"Multiply:\",ans)"
   ]
  },
  {
   "cell_type": "code",
   "execution_count": 21,
   "metadata": {},
   "outputs": [
    {
     "name": "stdout",
     "output_type": "stream",
     "text": [
      "Division: 14.142857142857142\n"
     ]
    }
   ],
   "source": [
    "## Type-4\n",
    "def func4(num1, num2):\n",
    "    num3 = num1/num2\n",
    "    return num3\n",
    "\n",
    "answer = func4(99,7)\n",
    "print(\"Division:\",answer)"
   ]
  },
  {
   "cell_type": "code",
   "execution_count": null,
   "metadata": {},
   "outputs": [],
   "source": []
  }
 ],
 "metadata": {
  "kernelspec": {
   "display_name": "Python 3.10.4 64-bit",
   "language": "python",
   "name": "python3"
  },
  "language_info": {
   "codemirror_mode": {
    "name": "ipython",
    "version": 3
   },
   "file_extension": ".py",
   "mimetype": "text/x-python",
   "name": "python",
   "nbconvert_exporter": "python",
   "pygments_lexer": "ipython3",
   "version": "3.10.4"
  },
  "orig_nbformat": 4,
  "vscode": {
   "interpreter": {
    "hash": "916dbcbb3f70747c44a77c7bcd40155683ae19c65e1c03b4aa3499c5328201f1"
   }
  }
 },
 "nbformat": 4,
 "nbformat_minor": 2
}
